{
 "cells": [
  {
   "cell_type": "markdown",
   "metadata": {},
   "source": [
    "# Self Driving Car Perception\n",
    "This self driving car uses the Inference Engine included in the Intel® Distribution of OpenVINO™ toolkit and the Intel® Deep Learning Deployment Toolkit. It is designed for a car mounted camera system that detects the driving lane and other vehicle along the road. It is intended to provide real-time car perception, mainly localization, to the self-driving car control system.\n",
    "\n",
    "## Overview of how it works\n",
    "At start-up the sample application reads the equivalent of command line arguments and loads a network and image from the video input to the Inference Engine (IE) plugin. A job is submitted to an edge compute node with a hardware accelerator such as Intel® HD Graphics GPU, Intel® Movidius™ Neural Compute Stick 2 and Intel® Arria® 10 FPGA. After the inference is completed, the output videos are appropriately stored in the /results/[device] directory, which can then be viewed within the Jupyter Notebook instance.\n",
    "\n",
    "## Demonstration objectives\n",
    "\n",
    "This is a demo project implementation to find the inference delay using Intel Hardware/Software combination.\n",
    "\n",
    "This demo showcases:\n",
    "#### Video input support and pre-processing for different models using OpenCV\n",
    "#### Multiple model deployment\n",
    "Vehicle detection and road segmentation\n",
    "#### Inference performance on edge hardware\n",
    "Inference performend using OpenVINO on an edge compute node with a hardware accelerator such as Intel® HD Graphics GPU, Intel® Movidius™ Neural Compute Stick 2 and Intel® Arria® 10 FPGA\n",
    "#### Async API in action\n",
    "Improving the overall frame-rate of the application by not waiting for the inference to complete but continuing to do things on the host while inference accelerator is busy.\n",
    "#### Output processing using OpenCV\n",
    "- **Vehicle detection** Bounding boxes, labels, box colors, confidence threshold, etc.\n",
    "- **Road Segmentation** Semantic mask for the road (purple)\n",
    "\n",
    "#### Lane detection\n",
    "Based on the road marks detected by road segmenation model, an image processing flow for lane detection is implemented using OpenCV.\n",
    "\n",
    "[Details in demo_util.py]\n",
    "\n",
    "#### Visualization\n",
    "Visualizing the road mask, the vehicles' bounding boxes and detected lane lines.\n",
    "\n",
    "\n"
   ]
  },
  {
   "cell_type": "markdown",
   "metadata": {},
   "source": [
    "## Step 0: Set Up\n",
    "\n",
    "### 0.1: Import dependencies\n",
    "\n",
    "Run the below cell to import Python dependencies needed for displaying the results in this notebook"
   ]
  },
  {
   "cell_type": "code",
   "execution_count": 1,
   "metadata": {},
   "outputs": [],
   "source": [
    "from IPython.display import HTML\n",
    "import matplotlib.pyplot as plt\n",
    "import os\n",
    "import time\n",
    "import sys\n",
    "from qarpo.demoutils import *"
   ]
  },
  {
   "cell_type": "markdown",
   "metadata": {},
   "source": [
    "### 0.2 (Optional\\-step): Original video without inference\n",
    "\n",
    "If you are curious to see the input video, run the following cell to view a short clip of the original video stream used for inference. "
   ]
  },
  {
   "cell_type": "code",
   "execution_count": 2,
   "metadata": {},
   "outputs": [
    {
     "data": {
      "text/html": [
       "<h2>Road video</h2>\n",
       "    \n",
       "    <video alt=\"\" controls autoplay muted height=\"480\"><source src=\"Resources/test_video.mp4\" type=\"video/mp4\" /></video>\n",
       "    "
      ],
      "text/plain": [
       "<IPython.core.display.HTML object>"
      ]
     },
     "execution_count": 2,
     "metadata": {},
     "output_type": "execute_result"
    }
   ],
   "source": [
    "videoHTML('Road video', ['Resources/test_video.mp4'])"
   ]
  },
 
  {
   "cell_type": "markdown",
   "metadata": {},
   "source": [
    "Some of these downloaded models are already in the IR format, while others will require the model optimizer. In this demo, we will be using the **vehicle-detection-adas-0002** and **road-segmentation-adas-0001** model, which is already in IR format. This model can be downloaded with the following command."
   ]
  },
  {
   "cell_type": "code",
   "execution_count": 4,
   "metadata": {},
   "outputs": [
    {
     "name": "stdout",
     "output_type": "stream",
     "text": [
      "################|| Downloading models ||################\n",
      "\n",
      "========== Downloading models/intel/vehicle-detection-adas-0002/FP32/vehicle-detection-adas-0002.xml\n",
      "... 100%, 210 KB, 3378 KB/s, 0 seconds passed\n",
      "\n",
      "========== Downloading models/intel/vehicle-detection-adas-0002/FP32/vehicle-detection-adas-0002.bin\n",
      "... 100%, 4213 KB, 10990 KB/s, 0 seconds passed\n",
      "\n",
      "========== Downloading models/intel/vehicle-detection-adas-0002/FP16/vehicle-detection-adas-0002.xml\n",
      "... 100%, 210 KB, 19822 KB/s, 0 seconds passed\n",
      "\n",
      "========== Downloading models/intel/vehicle-detection-adas-0002/FP16/vehicle-detection-adas-0002.bin\n",
      "... 100%, 2106 KB, 11175 KB/s, 0 seconds passed\n",
      "\n",
      "========== Downloading models/intel/vehicle-detection-adas-0002/FP32-INT8/vehicle-detection-adas-0002.xml\n",
      "... 100%, 428 KB, 12491 KB/s, 0 seconds passed\n",
      "\n",
      "========== Downloading models/intel/vehicle-detection-adas-0002/FP32-INT8/vehicle-detection-adas-0002.bin\n",
      "... 100%, 4286 KB, 10410 KB/s, 0 seconds passed\n",
      "\n",
      "################|| Post-processing ||################\n",
      "\n",
      "################|| Downloading models ||################\n",
      "\n",
      "========== Downloading models/intel/road-segmentation-adas-0001/FP32/road-segmentation-adas-0001.xml\n",
      "... 100%, 349 KB, 4732 KB/s, 0 seconds passed\n",
      "\n",
      "========== Downloading models/intel/road-segmentation-adas-0001/FP32/road-segmentation-adas-0001.bin\n",
      "... 100%, 719 KB, 7118 KB/s, 0 seconds passed\n",
      "\n",
      "========== Downloading models/intel/road-segmentation-adas-0001/FP16/road-segmentation-adas-0001.xml\n",
      "... 100%, 349 KB, 19138 KB/s, 0 seconds passed\n",
      "\n",
      "========== Downloading models/intel/road-segmentation-adas-0001/FP16/road-segmentation-adas-0001.bin\n",
      "... 100%, 359 KB, 13124 KB/s, 0 seconds passed\n",
      "\n",
      "========== Downloading models/intel/road-segmentation-adas-0001/FP32-INT8/road-segmentation-adas-0001.xml\n",
      "... 100%, 1032 KB, 9792 KB/s, 0 seconds passed\n",
      "\n",
      "========== Downloading models/intel/road-segmentation-adas-0001/FP32-INT8/road-segmentation-adas-0001.bin\n",
      "... 100%, 764 KB, 12658 KB/s, 0 seconds passed\n",
      "\n",
      "################|| Post-processing ||################\n",
      "\n"
     ]
    }
   ],
   "source": [
    "!/opt/intel/openvino/deployment_tools/tools/model_downloader/downloader.py --name vehicle-detection-adas-0002 -o models --progress_format text\n",
    "!/opt/intel/openvino/deployment_tools/tools/model_downloader/downloader.py --name road-segmentation-adas-0001 -o models --progress_format text"
   ]
  },
  {
   "cell_type": "markdown",
   "metadata": {},
   "source": [
    "The input arguments are as follows:\n",
    "\n",
    "* --name : name of the model you want to download. It should be one of the models listed in the previous cell\n",
    "* -o : output directory. If this directory does not exist, it will be created for you.\n",
    "\n",
    "With the `-o` option set as above, this command downloads the model in the directory `models`, with the model files (.xml and .bin) located at `models/intel/road-segmentation-adas-0001/FP32/` and `models/intel/vehicle-detection-adas-0002/FP32/` ."
   ]
  },
  {
   "cell_type": "markdown",
   "metadata": {},
   "source": [
    "## Step 2 : Inference on a video\n",
    "The inference code is already implemented in **CarPerception.py**.\n",
    "\n",
    "The Python code takes in command line arguments for video, model etc.\n",
    "\n",
    "**Command line argument options and how they are interpreted in the application source code**"
   ]
  },
  {
   "cell_type": "code",
   "execution_count": 5,
   "metadata": {},
   "outputs": [
    {
     "name": "stdout",
     "output_type": "stream",
     "text": [
      "usage: CarPerception.py [-h] -m MODEL -rm ROADMODEL -i INPUT\r\n",
      "                        [-l CPU_EXTENSION] [-d DEVICE] [-o OUTPUT_DIR]\r\n",
      "                        [-n NUM_REQUESTS]\r\n",
      "\r\n",
      "optional arguments:\r\n",
      "  -h, --help            show this help message and exit\r\n",
      "  -m MODEL, --model MODEL\r\n",
      "                        Path to an .xml file with a pre-trained vehicle\r\n",
      "                        detection model\r\n",
      "  -rm ROADMODEL, --roadmodel ROADMODEL\r\n",
      "                        Path to an .xml file with a pre-trained model road\r\n",
      "                        segmentation model\r\n",
      "  -i INPUT, --input INPUT\r\n",
      "                        Path to video file or image.\r\n",
      "  -l CPU_EXTENSION, --cpu_extension CPU_EXTENSION\r\n",
      "                        MKLDNN (CPU)-targeted custom layers. Absolute path to\r\n",
      "                        a shared library with the kernels impl.\r\n",
      "  -d DEVICE, --device DEVICE\r\n",
      "                        Specify the target device to infer on; CPU, GPU, FPGA\r\n",
      "                        or MYRIAD is acceptable. Looksfor a suitable plugin\r\n",
      "                        for device specified(CPU by default)\r\n",
      "  -o OUTPUT_DIR, --output_dir OUTPUT_DIR\r\n",
      "                        Name of output directory\r\n",
      "  -n NUM_REQUESTS, --num_requests NUM_REQUESTS\r\n",
      "                        number of async requests\r\n"
     ]
    }
   ],
   "source": [
    "!python3 CarPerception.py -h"
   ]
  },
  {
   "cell_type": "markdown",
   "metadata": {},
   "source": [
    "## The description of the arguments used in the argument parser:\n",
    "* -m location of the pre-trained IR model which has been pre-processed using the model optimizer. There is automated support built in this argument to support both FP32 and FP16 models targeting different hardware for vehicle detection\n",
    "* -rm location of the pre-trained IR model which has been pre-processed using the model optimizer. There is automated support built in this argument to support both FP32 and FP16 models targeting different hardware for road segmentation\n",
    "\n",
    "* -i location of the input video stream\n",
    "\n",
    "* -o location where the output file with inference needs to be stored (results/[device])\n",
    "* -d type of Hardware Acceleration (CPU, GPU, MYRIAD, HDDL or HETERO:FPGA,CPU)\n",
    "* -n Number of inference requests running in parallel"
   ]
  },
  {
   "cell_type": "markdown",
   "metadata": {},
   "source": [
    "### 2.1 Creating job file\n",
    "To run inference on the video, we need more compute power. We will run the workload on several edge compute nodes represented in the IoT DevCloud. We will send work to the edge compute nodes by submitting the corresponding non-interactive jobs into a queue. For each job, we will specify the type of the edge compute server that must be allocated for the job.\n",
    "\n",
    "The job file is written in Bash, and will be executed directly on the edge compute node. Run the following cell to write the job file in to the file \"car_perception_job.sh\""
   ]
  },
  {
   "cell_type": "code",
   "execution_count": 6,
   "metadata": {},
   "outputs": [
    {
     "name": "stdout",
     "output_type": "stream",
     "text": [
      "Writing car_perception_job.sh\n"
     ]
    }
   ],
   "source": [
    "%%writefile car_perception_job.sh\n",
    "\n",
    "#The default path for the job is your home directory, so we change directory to where the files are.\n",
    "#SAMPLEPATH= '/home/u37265/My-Notebooks/Car_Perception'\n",
    "cd $PBS_O_WORKDIR\n",
    "\n",
    "#shopper_monitor_job script writes output to a file inside a directory. We make sure that this directory exists.\n",
    "#The output directory is the first argument of the bash script\n",
    "mkdir -p $1\n",
    "OUTPUT_FILE=$1\n",
    "DEVICE=$2\n",
    "FP_MODEL=$3\n",
    "INPUT_FILE=$4\n",
    "NUM_INFER_REQS=$5\n",
    "\n",
    "if [ \"$DEVICE\" = \"HETERO:FPGA,CPU\" ]; then\n",
    "    # Environment variables and compilation for edge compute nodes with FPGAs - Updated for OpenVINO 2020.1\n",
    "    source /opt/altera/aocl-pro-rte/aclrte-linux64/init_opencl.sh\n",
    "    export LD_LIBRARY_PATH=${LD_LIBRARY_PATH}:/opt/intel/openvino/bitstreams/a10_vision_design_sg1_bitstreams/BSP/a10_1150_sg1/linux64/lib\n",
    "    aocl program acl0 /opt/intel/openvino/bitstreams/a10_vision_design_sg1_bitstreams/2019R4_PL1_FP16_MobileNet_Clamp.aocx\n",
    "    export CL_CONTEXT_COMPILER_MODE_INTELFPGA=3\n",
    "fi\n",
    "\n",
    "SAMPLEPATH=${PBS_O_WORKDIR}\n",
    "echo ${SAMPLEPATH}\n",
    "if [ \"$FP_MODEL\" = \"FP32\" ]; then\n",
    "  MODELPATH=${SAMPLEPATH}/models/intel/vehicle-detection-adas-0002/FP32/vehicle-detection-adas-0002.xml\n",
    "else\n",
    "  MODELPATH=${SAMPLEPATH}/models/intel/vehicle-detection-adas-0002/FP16/vehicle-detection-adas-0002.xml\n",
    "fi\n",
    "\n",
    "if [ \"$FP_MODEL\" = \"FP32\" ]; then\n",
    "  ROAD_MODEL=${SAMPLEPATH}/models/intel/road-segmentation-adas-0001/FP32/road-segmentation-adas-0001.xml\n",
    "else\n",
    "  ROAD_MODEL=${SAMPLEPATH}/models/intel/road-segmentation-adas-0001/FP16/road-segmentation-adas-0001.xml\n",
    "fi\n",
    "\n",
    "#Running the code\n",
    "python3 CarPerception.py        -m ${MODELPATH} \\\n",
    "                                -i ${INPUT_FILE} \\\n",
    "                                -o ${OUTPUT_FILE} \\\n",
    "                                -d ${DEVICE} \\\n",
    "                                -rm ${ROAD_MODEL}\\\n",
    "                                -n $NUM_INFER_REQS"
   ]
  },
  {
   "cell_type": "markdown",
   "metadata": {},
   "source": [
    "### 2.2 Job submission into the queue\n",
    "Now that we have the job script, we can submit the jobs to edge compute nodes. \n",
    "In the IoT DevCloud, you can do this using the `qsub` command. The following cells shows the output video after running on a CPU device using 4 inference requests. We will see later how the performance compares across different compute nodes and across different number of inference requests. "
   ]
  },
  {
   "cell_type": "code",
   "execution_count": 7,
   "metadata": {},
   "outputs": [],
   "source": [
    "os.environ[\"VIDEO\"] = \"Resources/project_video.mp4\""
   ]
  },
  {
   "cell_type": "code",
   "execution_count": 8,
   "metadata": {},
   "outputs": [
    {
     "name": "stdout",
     "output_type": "stream",
     "text": [
      "5080.v-qsvr-1.devcloud-edge\n"
     ]
    },
    {
     "data": {
      "application/vnd.jupyter.widget-view+json": {
       "model_id": "a62245dc5e7a41f7bb65e22b643d5da8",
       "version_major": 2,
       "version_minor": 0
      },
      "text/plain": [
       "HBox(children=(FloatProgress(value=0.0, bar_style='info', description='Inference', style=ProgressStyle(descrip…"
      ]
     },
     "metadata": {},
     "output_type": "display_data"
    }
   ],
   "source": [
    "job_id = !qsub car_perception_job.sh -l nodes=1:tank-870:i5-6500te -F \"results/demo/ CPU FP32 $VIDEO 4\" -N car_perception\n",
    "print(job_id[0]) \n",
    "if job_id:\n",
    "    progressIndicator('results/demo/', 'i_progress_'+job_id[0]+'.txt', \"Inference\", 0, 100)"
   ]
  },
  {
   "cell_type": "markdown",
   "metadata": {},
   "source": [
    "### Output Video\n",
    "The output video is created at ['results/demo/road.mp4']. The video shows the **average inference delay time** for each at the top left corner of the frame. "
   ]
  },
  {
   "cell_type": "code",
   "execution_count": 10,
   "metadata": {},
   "outputs": [
    {
     "data": {
      "text/html": [
       "<h2>Road video</h2>\n",
       "    <p>1257\n",
       " frames processed in 174.0\n",
       " seconds</p>\n",
       "    <video alt=\"\" controls autoplay muted height=\"480\"><source src=\"results/demo/road.mp4\" type=\"video/mp4\" /></video>\n",
       "    "
      ],
      "text/plain": [
       "<IPython.core.display.HTML object>"
      ]
     },
     "execution_count": 10,
     "metadata": {},
     "output_type": "execute_result"
    }
   ],
   "source": [
    "videoHTML('Road video', ['results/demo/road.mp4'],'results/demo/stats.txt')"
   ]
  },
  {
   "cell_type": "markdown",
   "metadata": {},
   "source": [
    "### 2.3 Number of inference requests\n",
    "In the cell below, we submit jobs with different number of inference requests to an IEI Tank* 870-Q170 edge node with an Intel® Core™ i5-6500TE processor. The inference workload will run on the CPU."
   ]
  },
  {
   "cell_type": "code",
   "execution_count": 12,
   "metadata": {
    "scrolled": true
   },
   "outputs": [
    {
     "name": "stdout",
     "output_type": "stream",
     "text": [
      "5082.v-qsvr-1.devcloud-edge\n"
     ]
    },
    {
     "data": {
      "application/vnd.jupyter.widget-view+json": {
       "model_id": "dc6f6199be734a00b549e8950dbe8e41",
       "version_major": 2,
       "version_minor": 0
      },
      "text/plain": [
       "HBox(children=(FloatProgress(value=0.0, bar_style='info', description='Inference', style=ProgressStyle(descrip…"
      ]
     },
     "metadata": {},
     "output_type": "display_data"
    },
    {
     "name": "stdout",
     "output_type": "stream",
     "text": [
      "5083.v-qsvr-1.devcloud-edge\n"
     ]
    },
    {
     "data": {
      "application/vnd.jupyter.widget-view+json": {
       "model_id": "561f38e8ac044b93b39b767e72215e39",
       "version_major": 2,
       "version_minor": 0
      },
      "text/plain": [
       "HBox(children=(FloatProgress(value=0.0, bar_style='info', description='Inference', style=ProgressStyle(descrip…"
      ]
     },
     "metadata": {},
     "output_type": "display_data"
    },
    {
     "name": "stdout",
     "output_type": "stream",
     "text": [
      "5084.v-qsvr-1.devcloud-edge\n"
     ]
    },
    {
     "data": {
      "application/vnd.jupyter.widget-view+json": {
       "model_id": "5e8c7be7b4754033977e8ddcb5bafa4a",
       "version_major": 2,
       "version_minor": 0
      },
      "text/plain": [
       "HBox(children=(FloatProgress(value=0.0, bar_style='info', description='Inference', style=ProgressStyle(descrip…"
      ]
     },
     "metadata": {},
     "output_type": "display_data"
    },
    {
     "name": "stdout",
     "output_type": "stream",
     "text": [
      "5085.v-qsvr-1.devcloud-edge\n"
     ]
    },
    {
     "data": {
      "application/vnd.jupyter.widget-view+json": {
       "model_id": "5a565f3ab3114d61a886e81d8c9f6368",
       "version_major": 2,
       "version_minor": 0
      },
      "text/plain": [
       "HBox(children=(FloatProgress(value=0.0, bar_style='info', description='Inference', style=ProgressStyle(descrip…"
      ]
     },
     "metadata": {},
     "output_type": "display_data"
    }
   ],
   "source": [
    "#Submit job to the queue\n",
    "job_id_core1 = !qsub car_perception_job.sh -l nodes=1:tank-870:i5-6500te -F \"results/core1/ CPU FP32 $VIDEO 1\" -N car_perception_core1\n",
    "print(job_id_core1[0]) \n",
    "\n",
    "#Progress indicators\n",
    "if job_id_core1:\n",
    "    progressIndicator('results/core1/', 'i_progress_'+job_id_core1[0]+'.txt', \"Inference\", 0, 100)\n",
    "#Submit job to the queue\n",
    "job_id_core2 = !qsub car_perception_job.sh -l nodes=1:tank-870:i5-6500te -F \"results/core2/ CPU FP32 $VIDEO 2\" -N car_perception_core2\n",
    "print(job_id_core2[0]) \n",
    "\n",
    "#Progress indicators\n",
    "if job_id_core2:\n",
    "    progressIndicator('results/core2/', 'i_progress_'+job_id_core2[0]+'.txt', \"Inference\", 0, 100)\n",
    "\n",
    "#Submit job to the queue\n",
    "job_id_core3 = !qsub car_perception_job.sh -l nodes=1:tank-870:i5-6500te -F \"results/core3/ CPU FP32 $VIDEO 3\" -N car_perception_core3\n",
    "print(job_id_core3[0]) \n",
    "\n",
    "#Progress indicators\n",
    "if job_id_core3:\n",
    "    progressIndicator('results/core3/', 'i_progress_'+job_id_core3[0]+'.txt', \"Inference\", 0, 100)\n",
    "    \n",
    "#Submit job to the queue\n",
    "job_id_core4 = !qsub car_perception_job.sh -l nodes=1:tank-870:i5-6500te -F \"results/core4/ CPU FP32 $VIDEO 4\" -N car_perception_core4\n",
    "print(job_id_core4[0]) \n",
    "\n",
    "#Progress indicators\n",
    "if job_id_core4:\n",
    "    progressIndicator('results/core4/', 'i_progress_'+job_id_core4[0]+'.txt', \"Inference\", 0, 100)"
   ]
  },
  {
   "cell_type": "markdown",
   "metadata": {},
   "source": [
    "The running time of each inference task is recorded in `results/core[N]]/stats.txt`. Run the cell below to plot the results of all jobs with different number of inference requests running in parallel. Lower values mean better performance for **Inference Engine Processing Time** ."
   ]
  },
  {
   "cell_type": "code",
   "execution_count": 31,
   "metadata": {},
   "outputs": [
    {
     "data": {
      "image/png": "[encoded data removed]",
      "text/plain": [
       "<Figure size 1080x576 with 1 Axes>"
      ]
     },
     "metadata": {
      "needs_background": "light"
     },
     "output_type": "display_data"
    }
   ],
   "source": [
    "req_list = [('core1', '1'),\n",
    "             ('core2', '2'),\n",
    "             ('core3', '3'),\n",
    "            ('core4', '4')]\n",
    "\n",
    "stats_list = []\n",
    "for req, a_name in req_list:\n",
    "    if 'job_id_'+req in vars():\n",
    "        stats_list.append(('results/'+req+'/stats'+'.txt', a_name))\n",
    "    else:\n",
    "        stats_list.append(('placeholder'+req, a_name))\n",
    "\n",
    "summaryPlot(stats_list, 'Num_Infer_Req', 'Time, seconds', 'Inference Engine Processing Time \\n Intel Core i5-6500TE CPU', 'time' )\n",
    "\n",
    "#summaryPlot(stats_list, 'Architecture', 'Frames per second', 'Inference Engine FPS', 'fps' )"
   ]
  },
  {
   "cell_type": "markdown",
   "metadata": {},
   "source": [
    "### 2.4 Different compute nodes\n",
    "Each of the cells below will submit a job to different edge compute nodes. The output of the cell is the `JobID` of your job, which you can use to track progress of a job.  After submission, they will go into a queue and run as soon as the requested compute resources become available. Note that for some architectures, the FP16 precision models were used instead of the FP32 to further accelerate the inference."
   ]
  },
  {
   "cell_type": "markdown",
   "metadata": {},
   "source": [
    "#### Submitting to an edge compute node with an Intel® CPU\n",
    "\n",
    "In the cell below, we submit a job to an [IEI Tank\\* 870\\-Q170](https://software.intel.com/en-us/iot/hardware/iei-tank-dev-kit-core) edge node with an [Intel® Core™ i5\\-6500TE processor](https://ark.intel.com/products/88186/Intel-Core-i5-6500TE-Processor-6M-Cache-up-to-3-30-GHz-). The inference workload will run on the CPU."
   ]
  },
  {
   "cell_type": "code",
   "execution_count": 14,
   "metadata": {},
   "outputs": [
    {
     "name": "stdout",
     "output_type": "stream",
     "text": [
      "rm: cannot remove 'car_perception_core*': No such file or directory\n",
      "5086.v-qsvr-1.devcloud-edge\n"
     ]
    },
    {
     "data": {
      "application/vnd.jupyter.widget-view+json": {
       "model_id": "971648c7643d430c8692c071f1e7ad74",
       "version_major": 2,
       "version_minor": 0
      },
      "text/plain": [
       "HBox(children=(FloatProgress(value=0.0, bar_style='info', description='Inference', style=ProgressStyle(descrip…"
      ]
     },
     "metadata": {},
     "output_type": "display_data"
    }
   ],
   "source": [
    "! rm car_perception_core*\n",
    "#Submit job to the queue\n",
    "job_id_core = !qsub car_perception_job.sh -l nodes=1:tank-870:i5-6500te -F \"results/core/ CPU FP32 $VIDEO 2\" -N car_perception_core\n",
    "print(job_id_core[0]) \n",
    "\n",
    "#Progress indicators\n",
    "if job_id_core:\n",
    "    progressIndicator('results/core/', 'i_progress_'+job_id_core[0]+'.txt', \"Inference\", 0, 100)"
   ]
  },
  {
   "cell_type": "markdown",
   "metadata": {},
   "source": [
    "#### Submitting to an edge compute node with Intel® Xeon® CPU\n",
    "In the cell below, we submit a job to an IEI Tank* 870-Q170 edge node with an Intel® Xeon® Processor E3-1268L v5. The inference workload will run on the CPU."
   ]
  },
  {
   "cell_type": "code",
   "execution_count": 19,
   "metadata": {},
   "outputs": [
    {
     "name": "stdout",
     "output_type": "stream",
     "text": [
      "rm: cannot remove 'car_perception_xeon.*': No such file or directory\n",
      "5087.v-qsvr-1.devcloud-edge\n"
     ]
    },
    {
     "data": {
      "application/vnd.jupyter.widget-view+json": {
       "model_id": "1e7c22f16d95416ebd2859030be5614a",
       "version_major": 2,
       "version_minor": 0
      },
      "text/plain": [
       "HBox(children=(FloatProgress(value=0.0, bar_style='info', description='Inference', style=ProgressStyle(descrip…"
      ]
     },
     "metadata": {},
     "output_type": "display_data"
    }
   ],
   "source": [
    "! rm car_perception_xeon.*\n",
    "#Submit job to the queue\n",
    "job_id_xeon = !qsub car_perception_job.sh  -l nodes=1:tank-870:e3-1268l-v5 -F \"results/xeon/ CPU FP32 $VIDEO 2\" -N car_perception_xeon \n",
    "print(job_id_xeon[0]) \n",
    "#Progress indicators\n",
    "if job_id_xeon:\n",
    "    progressIndicator('results/xeon/', 'i_progress_'+job_id_xeon[0]+'.txt', \"Inference\", 0, 100)"
   ]
  },
  {
   "cell_type": "markdown",
   "metadata": {},
   "source": [
    "#### Submitting to an edge compute node with Intel® NCS 2 (Neural Compute Stick 2)\n",
    "\n",
    "In the cell below, we submit a job to an [IEI Tank 870\\-Q170](https://software.intel.com/en-us/iot/hardware/iei-tank-dev-kit-core) edge node with an [Intel Core i5\\-6500te CPU](https://ark.intel.com/products/88186/Intel-Core-i5-6500TE-Processor-6M-Cache-up-to-3-30-GHz-). The inference workload will run on an [Intel Neural Compute Stick 2](https://software.intel.com/en-us/neural-compute-stick) installed in this node."
   ]
  },
  {
   "cell_type": "code",
   "execution_count": 20,
   "metadata": {},
   "outputs": [
    {
     "name": "stdout",
     "output_type": "stream",
     "text": [
      "rm: cannot remove 'car_perception_ncs2.*': No such file or directory\n",
      "5088.v-qsvr-1.devcloud-edge\n"
     ]
    },
    {
     "data": {
      "application/vnd.jupyter.widget-view+json": {
       "model_id": "99b81bb526014982853e85f10685ca11",
       "version_major": 2,
       "version_minor": 0
      },
      "text/plain": [
       "HBox(children=(FloatProgress(value=0.0, bar_style='info', description='Inference', style=ProgressStyle(descrip…"
      ]
     },
     "metadata": {},
     "output_type": "display_data"
    }
   ],
   "source": [
    "! rm car_perception_ncs2.*\n",
    "#Submit job to the queue\n",
    "job_id_ncs2 = !qsub car_perception_job.sh -l nodes=1:tank-870:i5-6500te:intel-ncs2 -F \"results/ncs2/ MYRIAD FP16 $VIDEO 2\" -N car_perception_ncs2\n",
    "print(job_id_ncs2[0]) \n",
    "#Progress indicators\n",
    "if job_id_ncs2:\n",
    "    progressIndicator('results/ncs2/', 'i_progress_'+job_id_ncs2[0]+'.txt', \"Inference\", 0, 100)"
   ]
  },
  {
   "cell_type": "markdown",
   "metadata": {},
   "source": [
    "#### Submitting to an edge compute node with Intel® Core CPU and using the onboard Intel® GPU\n",
    "In the cell below, we submit a job to an [IEI Tank\\* 870\\-Q170](https://software.intel.com/en-us/iot/hardware/iei-tank-dev-kit-core) edge node with an [Intel® Core i5\\-6500TE](https://ark.intel.com/products/88186/Intel-Core-i5-6500TE-Processor-6M-Cache-up-to-3-30-GHz-). The inference workload will run on the Intel® HD Graphics 530 card integrated with the CPU."
   ]
  },
  {
   "cell_type": "code",
   "execution_count": 21,
   "metadata": {},
   "outputs": [
    {
     "name": "stdout",
     "output_type": "stream",
     "text": [
      "5089.v-qsvr-1.devcloud-edge\n"
     ]
    },
    {
     "data": {
      "application/vnd.jupyter.widget-view+json": {
       "model_id": "77fdfd9be3334db4802eb3948105597b",
       "version_major": 2,
       "version_minor": 0
      },
      "text/plain": [
       "HBox(children=(FloatProgress(value=0.0, bar_style='info', description='Inference', style=ProgressStyle(descrip…"
      ]
     },
     "metadata": {},
     "output_type": "display_data"
    }
   ],
   "source": [
    "#Submit job to the queue\n",
    "job_id_gpu = !qsub car_perception_job.sh -l nodes=1:tank-870:i5-6500te:intel-hd-530 -F \"results/gpu/ GPU FP32 $VIDEO 2\" -N car_perception_gpu \n",
    "print(job_id_gpu[0]) \n",
    "#Progress indicators\n",
    "if job_id_gpu:\n",
    "    progressIndicator('results/gpu/', 'i_progress_'+job_id_gpu[0]+'.txt', \"Inference\", 0, 100)"
   ]
  },
  {
   "cell_type": "markdown",
   "metadata": {},
   "source": [
    "#### Submitting to an edge compute node with UP Squared Grove IoT Development Kit (UP2)\n",
    "In the cell below, we submit a job to an [UP Squared Grove IoT Development Kit](https://software.intel.com/en-us/iot/hardware/up-squared-grove-dev-kit) edge node with an [Intel® Atom® x7\\-E3950 Processor](https://ark.intel.com/products/96488/Intel-Atom-x7-E3950-Processor-2M-Cache-up-to-2-00-GHz-). The inference workload will run on the integrated Intel® HD Graphics 505 card. The use of the FP16 model here improved the perfomance from 1.5 fps to 2.4 fps."
   ]
  },
  {
   "cell_type": "code",
   "execution_count": 22,
   "metadata": {},
   "outputs": [
    {
     "name": "stdout",
     "output_type": "stream",
     "text": [
      "5090.v-qsvr-1.devcloud-edge\n"
     ]
    },
    {
     "data": {
      "application/vnd.jupyter.widget-view+json": {
       "model_id": "d0831dc2abc3474abe6177f04bee66f0",
       "version_major": 2,
       "version_minor": 0
      },
      "text/plain": [
       "HBox(children=(FloatProgress(value=0.0, bar_style='info', description='Inference', style=ProgressStyle(descrip…"
      ]
     },
     "metadata": {},
     "output_type": "display_data"
    }
   ],
   "source": [
    "#Submit job to the queue\n",
    "job_id_up2 = !qsub car_perception_job.sh -l nodes=1:up-squared -F \"results/up2/ GPU FP16 $VIDEO 4\" -N car_perception_up2\n",
    "print(job_id_up2[0]) \n",
    "#Progress indicators\n",
    "if job_id_up2:\n",
    "    progressIndicator('results/up2/', 'i_progress_'+job_id_up2[0]+'.txt', \"Inference\", 0, 100)"
   ]
  },
  {
   "cell_type": "markdown",
   "metadata": {},
   "source": [
    "#### Submitting to an edge compute node with IEI Mustang\\-F100\\-A10 (Intel® Arria® 10 FPGA)\n",
    "\n",
    "In the cell below, we submit a job to an [IEI Tank 870\\-Q170](https://software.intel.com/en-us/iot/hardware/iei-tank-dev-kit-core) edge node with an [Intel Core™ i5\\-6500te CPU](https://ark.intel.com/products/88186/Intel-Core-i5-6500TE-Processor-6M-Cache-up-to-3-30-GHz-) . The inference workload will run on the [IEI Mustang\\-F100\\-A10](https://www.ieiworld.com/mustang-f100/en/) card installed in this node."
   ]
  },
  {
   "cell_type": "code",
   "execution_count": 23,
   "metadata": {},
   "outputs": [
    {
     "name": "stdout",
     "output_type": "stream",
     "text": [
      "5091.v-qsvr-1.devcloud-edge\n"
     ]
    },
    {
     "data": {
      "application/vnd.jupyter.widget-view+json": {
       "model_id": "80e8cd33e8fc4cdaa8f8503c24a1754d",
       "version_major": 2,
       "version_minor": 0
      },
      "text/plain": [
       "HBox(children=(FloatProgress(value=0.0, bar_style='info', description='Inference', style=ProgressStyle(descrip…"
      ]
     },
     "metadata": {},
     "output_type": "display_data"
    }
   ],
   "source": [
    "#Submit job to the queue\n",
    "job_id_fpga = !qsub car_perception_job.sh -l nodes=1:tank-870:i5-6500te:iei-mustang-f100-a10 -F \"results/fpga/ HETERO:FPGA,CPU FP16 $VIDEO 2\" -N car_perception_fpga\n",
    "print(job_id_fpga[0]) \n",
    "#Progress indicators\n",
    "if job_id_fpga:\n",
    "    progressIndicator('results/fpga/', 'i_progress_'+job_id_fpga[0]+'.txt', \"Inference\", 0, 100)"
   ]
  },
  {
   "cell_type": "markdown",
   "metadata": {},
   "source": [
    "#### Submitting to an edge compute node with IEI Mustang\\-V100\\-MX8 (Intel® HDDL\\-R)"
   ]
  },
  {
   "cell_type": "code",
   "execution_count": 24,
   "metadata": {},
   "outputs": [
    {
     "name": "stdout",
     "output_type": "stream",
     "text": [
      "5092.v-qsvr-1.devcloud-edge\n"
     ]
    },
    {
     "data": {
      "application/vnd.jupyter.widget-view+json": {
       "model_id": "f712ba9fdbdd4218b851e3c9c05f79a8",
       "version_major": 2,
       "version_minor": 0
      },
      "text/plain": [
       "HBox(children=(FloatProgress(value=0.0, bar_style='info', description='Inference', style=ProgressStyle(descrip…"
      ]
     },
     "metadata": {},
     "output_type": "display_data"
    }
   ],
   "source": [
    "#Submit job to the queue\n",
    "job_id_hddlr = !qsub car_perception_job.sh -l nodes=1:idc002mx8:iei-mustang-v100-mx8 -F \"results/hddlr/ HDDL FP16 $VIDEO 2\" -N car_perception_hddlr\n",
    "print(job_id_hddlr[0]) \n",
    "#Progress indicators\n",
    "if job_id_hddlr:\n",
    "    progressIndicator('results/hddlr/', 'i_progress_'+job_id_hddlr[0]+'.txt', \"Inference\", 0, 100)"
   ]
  },
  {
   "cell_type": "code",
   "execution_count": 29,
   "metadata": {},
   "outputs": [
    {
     "name": "stdout",
     "output_type": "stream",
     "text": [
      "Job ID                    Name             User            Time Use S Queue\r\n",
      "------------------------- ---------------- --------------- -------- - -----\r\n",
      "5028.v-qsvr-1              ...ub-singleuser u37265          04:13:22 R jupyterhub     \r\n"
     ]
    }
   ],
   "source": [
    "#liveQstat()\n",
    "!qstat"
   ]
  },
  {
   "cell_type": "markdown",
   "metadata": {},
   "source": [
    "## Step 3: Assess Performance\n",
    "\n",
    "The running time of each inference task is recorded in `results/[device]/stats.txt`. Run the cell below to plot the results of all jobs side\\-by\\-side. Lower values mean better performance for **Inference Engine Processing Time** . Keep in mind that some architectures are optimized for the highest performance, others for low power or other metrics."
   ]
  },
  {
   "cell_type": "code",
   "execution_count": 30,
   "metadata": {},
   "outputs": [
    {
     "data": {
      "image/png": "[encoded data removed]",
      "text/plain": [
       "<Figure size 1080x576 with 1 Axes>"
      ]
     },
     "metadata": {
      "needs_background": "light"
     },
     "output_type": "display_data"
    },
    {
     "data": {
      "image/png": "[encoded data removed]",
      "text/plain": [
       "<Figure size 1080x576 with 1 Axes>"
      ]
     },
     "metadata": {
      "needs_background": "light"
     },
     "output_type": "display_data"
    }
   ],
   "source": [
    "arch_list = [('core', 'Intel Core\\ni5-6500TE\\nCPU'),\n",
    "             ('xeon', 'Intel Xeon\\nE3-1268L v5\\nCPU'),\n",
    "             ('gpu', ' Intel Core\\ni5-6500TE\\nGPU'),\n",
    "             ('fpga', 'IEI Mustang\\nF100-A10\\nFPGA'),\n",
    "             ('ncs2', 'Intel\\nNCS2'),\n",
    "             ('up2', 'Intel Atom\\nx7-E3950\\nUP2/GPU'),\n",
    "             ('hddlr', 'IEI Mustang\\nV100-MX8\\nHDDL-R')]\n",
    "\n",
    "stats_list = []\n",
    "for arch, a_name in arch_list:\n",
    "    if 'job_id_'+arch in vars():\n",
    "        stats_list.append(('results/'+arch+'/stats'+'.txt', a_name))\n",
    "    else:\n",
    "        stats_list.append(('placeholder'+arch, a_name))\n",
    "\n",
    "summaryPlot(stats_list, 'Architecture', 'Time, seconds', 'Inference Engine Processing Time', 'time' )\n",
    "\n",
    "summaryPlot(stats_list, 'Architecture', 'Frames per second', 'Inference Engine FPS', 'fps' )"
   ]
  },
  {
   "cell_type": "code",
   "execution_count": 27,
   "metadata": {},
   "outputs": [
    {
     "name": "stdout",
     "output_type": "stream",
     "text": [
      "     43 idc001skl,compnode,iei,tank-870,intel-core,i5-6500te,skylake,intel-hd-530,ram8gb,net1gbe\r\n",
      "     13 idc002mx8,compnode,iei,tank-870,intel-core,i5-6500te,skylake,intel-hd-530,ram8gb,net1gbe,hddl-r,iei-mustang-v100-mx8\r\n",
      "     17 idc003a10,compnode,iei,tank-870,intel-core,i5-6500te,skylake,intel-hd-530,ram8gb,net1gbe,hddl-f,iei-mustang-f100-a10\r\n",
      "     22 idc004nc2,compnode,iei,tank-870,intel-core,i5-6500te,skylake,intel-hd-530,ram8gb,net1gbe,ncs,intel-ncs2\r\n",
      "      8 idc006kbl,compnode,iei,tank-870,intel-core,i5-7500t,kaby-lake,intel-hd-630,ram8gb,net1gbe\r\n",
      "     12 idc007xv5,compnode,iei,tank-870,intel-xeon,e3-1268l-v5,skylake,intel-hd-p530,ram32gb,net1gbe\r\n",
      "     14 idc008u2g,compnode,up-squared,grove,intel-atom,e3950,apollo-lake,intel-hd-505,ram4gb,net1gbe,ncs,intel-ncs2\r\n",
      "      1 idc009jkl,compnode,jwip,intel-core,i5-7500,kaby-lake,intel-hd-630,ram8gb,net1gbe\r\n",
      "      1 idc010jal,compnode,jwip,intel-atom,e3950,apollo-lake,intel-hd-505,ram4gb,net1gbe\r\n",
      "      1 idc011ark2250s,compnode,advantech,intel-core,i5-6442eq,skylake,intel-hd-530,ram8gb,net1gbe\r\n",
      "      1 idc012ark1220l,compnode,advantech,intel-atom,e3940,apollo-lake,intel-hd-500,ram4gb,net1gbe\r\n",
      "      1 idc013ds580,compnode,advantech,intel-atom,e3950,apollo-lake,intel-hd-505,ram2gb,net1gbe\r\n",
      "     19 idc014upxa10fx1,compnode,aaeon,upx-edgei7,intel-core,i7-8665ue,whiskey-lake,intel-uhd-620,ram16gb,net1gbe,vpu,myriadx-ma2485\r\n",
      "      5 idc015ai5,compnode,advantech,epc-c301i5,intel-core,i5-8365ue,whiskey-lake,intel-uhd-620,ram8gb,net1gbe,vpu,myriadx-ma2485\r\n",
      "      4 idc016ai7,compnode,advantech,epc-c301i7,intel-core,i7-8665ue,whiskey-lake,intel-uhd-620,ram16gb,net1gbe,vpu,myriadx-ma2485\r\n"
     ]
    }
   ],
   "source": [
    "#If you are curious to see the available types of nodes on the IoT DevCloud, run the following optional cell.\n",
    "!pbsnodes | grep compnode | awk '{print $3}' | sort | uniq -c"
   ]
  }
 ],
 "metadata": {
  "kernelspec": {
   "display_name": "Python 3 (Ubuntu)",
   "language": "python",
   "name": "c003-python_3"
  },
  "language_info": {
   "codemirror_mode": {
    "name": "ipython",
    "version": 3
   },
   "file_extension": ".py",
   "mimetype": "text/x-python",
   "name": "python",
   "nbconvert_exporter": "python",
   "pygments_lexer": "ipython3",
   "version": "3.6.9"
  }
 },
 "nbformat": 4,
 "nbformat_minor": 2
}
